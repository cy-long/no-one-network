{
 "cells": [
  {
   "cell_type": "markdown",
   "metadata": {},
   "source": [
    "# No-one-network: The probablistic nature of ecology"
   ]
  },
  {
   "cell_type": "markdown",
   "metadata": {},
   "source": [
    "### Definition of No-one-network\n",
    "\n",
    "No-one-network is a set of network structures (e.g. ecological interaction networks) with defined probability measures.\n",
    "\n",
    "Ecological measurement (e.g. stability, feasibility) is defined as the function of a network, they could simutanously transferred as distribution of values.\n",
    "\n",
    "Practically, Markov-Chain Monte-Carlo inference of no-one-network generates sampling on that distribution of networks, which is the major source of no-one-network that we will be working on in numerical analysis. "
   ]
  },
  {
   "cell_type": "markdown",
   "metadata": {},
   "source": [
    "### Uncertainty at the individual level\n",
    "\n",
    "Sign indicator of the networks\n",
    "related but not exactly BF factors\n",
    "\n",
    "Information measurement"
   ]
  },
  {
   "cell_type": "markdown",
   "metadata": {},
   "source": [
    "### Uncertainty at the system level\n",
    "\n",
    "Under which scenario can we reconsile the probablistical nature of networks with the deterministic quantification of them? One such case is, even if there are huge uncertainty at the individual level, these uncertainty propagates and cancel out when we only care about certain system-level quantification. \n",
    "\n",
    "Thus, we could [perhaps] scrutinize all the traditionally ecological measurements and see how each of them distributes in 1. Gaussian random matrices 2. MCMC samples?\n",
    "\n"
   ]
  }
 ],
 "metadata": {
  "language_info": {
   "name": "python"
  }
 },
 "nbformat": 4,
 "nbformat_minor": 2
}
